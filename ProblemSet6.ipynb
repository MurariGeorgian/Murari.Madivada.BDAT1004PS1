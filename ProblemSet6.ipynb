{
 "cells": [
  {
   "cell_type": "markdown",
   "id": "398e4162",
   "metadata": {},
   "source": [
    "# Q6 :"
   ]
  },
  {
   "cell_type": "markdown",
   "id": "0e43a67a",
   "metadata": {},
   "source": [
    "You can turn a word into pig-Latin using the following two rules (simplified):\n",
    "• If the word starts with a consonant, move that letter to the end and append 'ay'. For example, 'happy' becomes 'appyhay' and 'pencil' becomes 'encilpay'.\n",
    "• If the word starts with a vowel, simply append 'way' to the end of the word. For example, 'enter' becomes 'enterway' and 'other' becomes 'otherway' . For our purposes, there are 5 vowels: a, e, i, o, u (so we count y as a consonant).\n",
    "Write a function pig() that takes a word (i.e., a string) as input and returns its pig-Latin form. Your function should still work if the input word contains upper case characters. Your output should always be lower case however."
   ]
  },
  {
   "cell_type": "code",
   "execution_count": 1,
   "id": "7f39ac7e",
   "metadata": {},
   "outputs": [],
   "source": [
    "def pig(input):\n",
    "    input = input.lower()\n",
    "    vowel = 'aeiou'\n",
    "    \n",
    "    if input[0] in vowel:\n",
    "        print(input + 'way')\n",
    "    else:\n",
    "        print(input[1:] + input[0] +'ay')\n",
    "        \n",
    "\n"
   ]
  },
  {
   "cell_type": "code",
   "execution_count": 4,
   "id": "85c8f5bf",
   "metadata": {},
   "outputs": [
    {
     "name": "stdout",
     "output_type": "stream",
     "text": [
      "ineapplepay\n"
     ]
    }
   ],
   "source": [
    "pig('PINEAPPLE')"
   ]
  },
  {
   "cell_type": "code",
   "execution_count": 8,
   "id": "451e5425",
   "metadata": {},
   "outputs": [
    {
     "name": "stdout",
     "output_type": "stream",
     "text": [
      "orangeway\n"
     ]
    }
   ],
   "source": [
    "pig('ORANGE')"
   ]
  },
  {
   "cell_type": "code",
   "execution_count": 6,
   "id": "d568010e",
   "metadata": {},
   "outputs": [
    {
     "name": "stdout",
     "output_type": "stream",
     "text": [
      "appyhay\n"
     ]
    }
   ],
   "source": [
    "pig('happy')"
   ]
  },
  {
   "cell_type": "code",
   "execution_count": 7,
   "id": "40a98e77",
   "metadata": {},
   "outputs": [
    {
     "name": "stdout",
     "output_type": "stream",
     "text": [
      "enterway\n"
     ]
    }
   ],
   "source": [
    "pig('Enter')"
   ]
  },
  {
   "cell_type": "code",
   "execution_count": null,
   "id": "e48eb7d3",
   "metadata": {},
   "outputs": [],
   "source": []
  }
 ],
 "metadata": {
  "kernelspec": {
   "display_name": "Python 3",
   "language": "python",
   "name": "python3"
  },
  "language_info": {
   "codemirror_mode": {
    "name": "ipython",
    "version": 3
   },
   "file_extension": ".py",
   "mimetype": "text/x-python",
   "name": "python",
   "nbconvert_exporter": "python",
   "pygments_lexer": "ipython3",
   "version": "3.8.8"
  }
 },
 "nbformat": 4,
 "nbformat_minor": 5
}
