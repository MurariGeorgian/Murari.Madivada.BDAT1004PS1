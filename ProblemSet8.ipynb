{
 "cells": [
  {
   "cell_type": "markdown",
   "id": "14a265fd",
   "metadata": {},
   "source": [
    "# Q8 :"
   ]
  },
  {
   "cell_type": "markdown",
   "id": "18507c8f",
   "metadata": {},
   "source": [
    "Write a function curconv() that takes as input:\n",
    "1. a currency represented using a string (e.g., 'JPY' for the Japanese Yen or 'EUR' for the Euro)\n",
    "2. an amount\n",
    "and then converts and returns the amount in US dollars."
   ]
  },
  {
   "cell_type": "code",
   "execution_count": 1,
   "id": "6a65e0be",
   "metadata": {},
   "outputs": [],
   "source": [
    "def  curconv(country,amount):\n",
    "    f = open(\"currencies.txt\",\"r\")\n",
    "    lines = f.readlines()\n",
    "    currencies = []\n",
    "    us_dollor = 0\n",
    "    for line in lines:\n",
    "        currencies.append((line.strip().split())[0:2])\n",
    "    for currency in currencies:\n",
    "        if (currency[0]==country):\n",
    "            us_dollor=float(currency[1])*amount\n",
    "    f.close()\n",
    "    print(us_dollor)"
   ]
  },
  {
   "cell_type": "code",
   "execution_count": 5,
   "id": "e8c8330c",
   "metadata": {},
   "outputs": [
    {
     "name": "stdout",
     "output_type": "stream",
     "text": [
      "1.241401\n"
     ]
    }
   ],
   "source": [
    "curconv('JPY',100)"
   ]
  },
  {
   "cell_type": "code",
   "execution_count": 6,
   "id": "cec7c1a9",
   "metadata": {},
   "outputs": [
    {
     "name": "stdout",
     "output_type": "stream",
     "text": [
      "16.77063\n"
     ]
    }
   ],
   "source": [
    "curconv('NOK',100)"
   ]
  },
  {
   "cell_type": "code",
   "execution_count": 7,
   "id": "2562cf5f",
   "metadata": {},
   "outputs": [
    {
     "name": "stdout",
     "output_type": "stream",
     "text": [
      "122.96544\n"
     ]
    }
   ],
   "source": [
    "curconv('EUR', 100)"
   ]
  }
 ],
 "metadata": {
  "kernelspec": {
   "display_name": "Python 3",
   "language": "python",
   "name": "python3"
  },
  "language_info": {
   "codemirror_mode": {
    "name": "ipython",
    "version": 3
   },
   "file_extension": ".py",
   "mimetype": "text/x-python",
   "name": "python",
   "nbconvert_exporter": "python",
   "pygments_lexer": "ipython3",
   "version": "3.8.8"
  }
 },
 "nbformat": 4,
 "nbformat_minor": 5
}
