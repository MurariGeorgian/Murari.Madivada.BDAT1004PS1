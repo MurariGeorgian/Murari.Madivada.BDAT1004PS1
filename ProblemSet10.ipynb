{
 "cells": [
  {
   "cell_type": "markdown",
   "id": "dff20069",
   "metadata": {},
   "source": [
    "# Q10 :"
   ]
  },
  {
   "cell_type": "markdown",
   "id": "06772319",
   "metadata": {},
   "source": [
    "Encryption is the process of hiding the meaning of a text by substituting letters in the message with other letters, according to some system. If the process is successful, no one but the intended recipient can understand the encrypted message. Cryptanalysis refers to attempts to undo the encryption, even if some details of the encryption are unknown (for example, if an encrypted message has been intercepted). The first step of cryptanalysis is often to build up a table of letter frequencies in the encrypted text. Assume that the string letters is already defined as 'abcdefghijklmnopqrstuvwxyz'. Write a function called frequencies() that takes a string as its only parameter, and returns a list of integers, showing the number of times each character appears in the text. Your function may ignore any characters that are not in letters."
   ]
  },
  {
   "cell_type": "code",
   "execution_count": 1,
   "id": "71629a2b",
   "metadata": {},
   "outputs": [],
   "source": [
    "def frequencies(input):\n",
    "    occur = []\n",
    "    input = input.lower().replace(\" \",\"\")\n",
    "    for i in input:\n",
    "        occur.append(input.count(i))\n",
    "    print(occur)    \n",
    "        \n",
    "        \n"
   ]
  },
  {
   "cell_type": "code",
   "execution_count": 3,
   "id": "12350c94",
   "metadata": {},
   "outputs": [
    {
     "name": "stdout",
     "output_type": "stream",
     "text": [
      "[1, 1, 1, 1, 1, 1, 1, 1, 1]\n"
     ]
    }
   ],
   "source": [
    "frequencies('something')"
   ]
  },
  {
   "cell_type": "code",
   "execution_count": 4,
   "id": "7ef2c28f",
   "metadata": {},
   "outputs": [
    {
     "name": "stdout",
     "output_type": "stream",
     "text": [
      "[1, 1, 2, 2, 1]\n"
     ]
    }
   ],
   "source": [
    "frequencies('happy')"
   ]
  },
  {
   "cell_type": "code",
   "execution_count": 5,
   "id": "4f6848a6",
   "metadata": {},
   "outputs": [
    {
     "name": "stdout",
     "output_type": "stream",
     "text": [
      "[3, 2, 5, 1, 1, 1, 1, 1, 2, 5, 3, 1, 4, 1, 1, 4, 3, 1, 4, 2, 5, 3, 1, 2, 3, 1, 5, 2, 3, 2, 4, 1, 5, 1]\n"
     ]
    }
   ],
   "source": [
    "frequencies('The quick red fox got bored and went home.')"
   ]
  },
  {
   "cell_type": "code",
   "execution_count": 6,
   "id": "b2a5994b",
   "metadata": {},
   "outputs": [
    {
     "name": "stdout",
     "output_type": "stream",
     "text": [
      "[1, 2, 2, 1, 1]\n"
     ]
    }
   ],
   "source": [
    "frequencies('apple')"
   ]
  },
  {
   "cell_type": "code",
   "execution_count": null,
   "id": "cd01cefd",
   "metadata": {},
   "outputs": [],
   "source": []
  }
 ],
 "metadata": {
  "kernelspec": {
   "display_name": "Python 3",
   "language": "python",
   "name": "python3"
  },
  "language_info": {
   "codemirror_mode": {
    "name": "ipython",
    "version": 3
   },
   "file_extension": ".py",
   "mimetype": "text/x-python",
   "name": "python",
   "nbconvert_exporter": "python",
   "pygments_lexer": "ipython3",
   "version": "3.8.8"
  }
 },
 "nbformat": 4,
 "nbformat_minor": 5
}
