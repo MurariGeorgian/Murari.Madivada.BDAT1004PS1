{
 "cells": [
  {
   "cell_type": "markdown",
   "id": "1af16e3a",
   "metadata": {},
   "source": [
    "# Q7 :"
   ]
  },
  {
   "cell_type": "markdown",
   "id": "ee3f1a3b",
   "metadata": {},
   "source": [
    "File bloodtype1.txt records blood-types of patients (A, B, AB, O or OO) at a clinic. Write a function bldcount() that reads the file with name name and reports (i.e., prints) how many patients there are in each bloodtype."
   ]
  },
  {
   "cell_type": "code",
   "execution_count": 5,
   "id": "1efc43bf",
   "metadata": {},
   "outputs": [],
   "source": [
    "def bldcount (fileTxt):\n",
    "    f = open(fileTxt,\"r\")\n",
    "    bloodTypedata =['A','B','AB','O','OO']\n",
    "    lines = f.readlines()\n",
    "    \n",
    "    \n",
    "    for bloodType in bloodTypedata:\n",
    "        count = 0\n",
    "        for line in lines:\n",
    "            if(bloodType == line.strip()):\n",
    "                count+=1 \n",
    "        print(\"There are \"+str(count)+\" patients for blood type \"+ str(bloodType))\n",
    "    f.close()\n",
    "\n"
   ]
  },
  {
   "cell_type": "code",
   "execution_count": 4,
   "id": "2a3b9de4",
   "metadata": {},
   "outputs": [
    {
     "name": "stdout",
     "output_type": "stream",
     "text": [
      "There are 15 patients for blood type A\n",
      "There are 1 patients for blood type B\n",
      "There are 13 patients for blood type AB\n",
      "There are 15 patients for blood type O\n",
      "There are 0 patients for blood type OO\n"
     ]
    }
   ],
   "source": [
    "bldcount('data.txt')"
   ]
  },
  {
   "cell_type": "code",
   "execution_count": null,
   "id": "c6928766",
   "metadata": {},
   "outputs": [],
   "source": []
  },
  {
   "cell_type": "code",
   "execution_count": null,
   "id": "d3294d6a",
   "metadata": {},
   "outputs": [],
   "source": []
  },
  {
   "cell_type": "code",
   "execution_count": null,
   "id": "236a29e3",
   "metadata": {},
   "outputs": [],
   "source": []
  }
 ],
 "metadata": {
  "kernelspec": {
   "display_name": "Python 3",
   "language": "python",
   "name": "python3"
  },
  "language_info": {
   "codemirror_mode": {
    "name": "ipython",
    "version": 3
   },
   "file_extension": ".py",
   "mimetype": "text/x-python",
   "name": "python",
   "nbconvert_exporter": "python",
   "pygments_lexer": "ipython3",
   "version": "3.8.8"
  }
 },
 "nbformat": 4,
 "nbformat_minor": 5
}
