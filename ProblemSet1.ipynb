{
 "cells": [
  {
   "cell_type": "markdown",
   "id": "994fef47",
   "metadata": {},
   "source": [
    "# Q1 : "
   ]
  },
  {
   "cell_type": "markdown",
   "id": "983d1fcc",
   "metadata": {},
   "source": [
    "What data type is each of the following?"
   ]
  },
  {
   "cell_type": "code",
   "execution_count": null,
   "id": "e4b5c899",
   "metadata": {},
   "outputs": [],
   "source": [
    "Exception --> Description\n",
    "\n",
    "# 5 \tint // Integer (whole number)\n",
    "5.0 \t float // Floating point number\n",
    "5 > 1 \t boolean \n",
    "'5' \t char // Single quotes encode a single character\n",
    "5 * 2 \tint\n",
    "'5' * 2 \t int\n",
    "'5' + '2' \t int\n",
    "5 / 2 \t int\n",
    "5 % 2 \tint\n",
    "{5, 2, 1} \t array\n",
    "5 == 3 \t boolean\n",
    "Pi (the number) \t double // Represents the ratio of the circumference of a circle to its diameter, specified by the constant, π"
   ]
  },
  {
   "cell_type": "markdown",
   "id": "4ffbc66c",
   "metadata": {},
   "source": []
  }
 ],
 "metadata": {
  "kernelspec": {
   "display_name": "Python 3",
   "language": "python",
   "name": "python3"
  },
  "language_info": {
   "codemirror_mode": {
    "name": "ipython",
    "version": 3
   },
   "file_extension": ".py",
   "mimetype": "text/x-python",
   "name": "python",
   "nbconvert_exporter": "python",
   "pygments_lexer": "ipython3",
   "version": "3.8.8"
  }
 },
 "nbformat": 4,
 "nbformat_minor": 5
}
